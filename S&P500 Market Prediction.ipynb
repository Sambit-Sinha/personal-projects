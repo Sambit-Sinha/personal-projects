{
 "cells": [
  {
   "cell_type": "code",
   "execution_count": 1,
   "id": "cb69f31c",
   "metadata": {},
   "outputs": [
    {
     "name": "stderr",
     "output_type": "stream",
     "text": [
      "C:\\Users\\sambit.a.sinha\\Anaconda3\\lib\\site-packages\\pandas\\core\\computation\\expressions.py:21: UserWarning: Pandas requires version '2.8.4' or newer of 'numexpr' (version '2.8.3' currently installed).\n",
      "  from pandas.core.computation.check import NUMEXPR_INSTALLED\n",
      "C:\\Users\\sambit.a.sinha\\Anaconda3\\lib\\site-packages\\pandas\\core\\arrays\\masked.py:60: UserWarning: Pandas requires version '1.3.6' or newer of 'bottleneck' (version '1.3.5' currently installed).\n",
      "  from pandas.core import (\n"
     ]
    }
   ],
   "source": [
    "import yfinance as yf\n",
    "import pandas as pd\n",
    "import os"
   ]
  },
  {
   "cell_type": "code",
   "execution_count": 2,
   "id": "93004e47",
   "metadata": {},
   "outputs": [],
   "source": [
    "# pip install yfinance"
   ]
  },
  {
   "cell_type": "code",
   "execution_count": 3,
   "id": "42a8c25a",
   "metadata": {},
   "outputs": [],
   "source": [
    "obj = yf.Ticker(\"^GSPC\")"
   ]
  },
  {
   "cell_type": "code",
   "execution_count": 4,
   "id": "0e7768c2",
   "metadata": {},
   "outputs": [],
   "source": [
    "df = obj.history(period='max')"
   ]
  },
  {
   "cell_type": "code",
   "execution_count": 5,
   "id": "ced738fb",
   "metadata": {},
   "outputs": [
    {
     "data": {
      "text/html": [
       "<div>\n",
       "<style scoped>\n",
       "    .dataframe tbody tr th:only-of-type {\n",
       "        vertical-align: middle;\n",
       "    }\n",
       "\n",
       "    .dataframe tbody tr th {\n",
       "        vertical-align: top;\n",
       "    }\n",
       "\n",
       "    .dataframe thead th {\n",
       "        text-align: right;\n",
       "    }\n",
       "</style>\n",
       "<table border=\"1\" class=\"dataframe\">\n",
       "  <thead>\n",
       "    <tr style=\"text-align: right;\">\n",
       "      <th></th>\n",
       "      <th>Open</th>\n",
       "      <th>High</th>\n",
       "      <th>Low</th>\n",
       "      <th>Close</th>\n",
       "      <th>Volume</th>\n",
       "      <th>Dividends</th>\n",
       "      <th>Stock Splits</th>\n",
       "    </tr>\n",
       "    <tr>\n",
       "      <th>Date</th>\n",
       "      <th></th>\n",
       "      <th></th>\n",
       "      <th></th>\n",
       "      <th></th>\n",
       "      <th></th>\n",
       "      <th></th>\n",
       "      <th></th>\n",
       "    </tr>\n",
       "  </thead>\n",
       "  <tbody>\n",
       "    <tr>\n",
       "      <th>1927-12-30 00:00:00-05:00</th>\n",
       "      <td>17.660000</td>\n",
       "      <td>17.660000</td>\n",
       "      <td>17.660000</td>\n",
       "      <td>17.660000</td>\n",
       "      <td>0</td>\n",
       "      <td>0.0</td>\n",
       "      <td>0.0</td>\n",
       "    </tr>\n",
       "    <tr>\n",
       "      <th>1928-01-03 00:00:00-05:00</th>\n",
       "      <td>17.760000</td>\n",
       "      <td>17.760000</td>\n",
       "      <td>17.760000</td>\n",
       "      <td>17.760000</td>\n",
       "      <td>0</td>\n",
       "      <td>0.0</td>\n",
       "      <td>0.0</td>\n",
       "    </tr>\n",
       "    <tr>\n",
       "      <th>1928-01-04 00:00:00-05:00</th>\n",
       "      <td>17.719999</td>\n",
       "      <td>17.719999</td>\n",
       "      <td>17.719999</td>\n",
       "      <td>17.719999</td>\n",
       "      <td>0</td>\n",
       "      <td>0.0</td>\n",
       "      <td>0.0</td>\n",
       "    </tr>\n",
       "    <tr>\n",
       "      <th>1928-01-05 00:00:00-05:00</th>\n",
       "      <td>17.549999</td>\n",
       "      <td>17.549999</td>\n",
       "      <td>17.549999</td>\n",
       "      <td>17.549999</td>\n",
       "      <td>0</td>\n",
       "      <td>0.0</td>\n",
       "      <td>0.0</td>\n",
       "    </tr>\n",
       "    <tr>\n",
       "      <th>1928-01-06 00:00:00-05:00</th>\n",
       "      <td>17.660000</td>\n",
       "      <td>17.660000</td>\n",
       "      <td>17.660000</td>\n",
       "      <td>17.660000</td>\n",
       "      <td>0</td>\n",
       "      <td>0.0</td>\n",
       "      <td>0.0</td>\n",
       "    </tr>\n",
       "    <tr>\n",
       "      <th>...</th>\n",
       "      <td>...</td>\n",
       "      <td>...</td>\n",
       "      <td>...</td>\n",
       "      <td>...</td>\n",
       "      <td>...</td>\n",
       "      <td>...</td>\n",
       "      <td>...</td>\n",
       "    </tr>\n",
       "    <tr>\n",
       "      <th>2024-03-14 00:00:00-04:00</th>\n",
       "      <td>5175.140137</td>\n",
       "      <td>5176.850098</td>\n",
       "      <td>5123.299805</td>\n",
       "      <td>5150.479980</td>\n",
       "      <td>4687970000</td>\n",
       "      <td>0.0</td>\n",
       "      <td>0.0</td>\n",
       "    </tr>\n",
       "    <tr>\n",
       "      <th>2024-03-15 00:00:00-04:00</th>\n",
       "      <td>5123.310059</td>\n",
       "      <td>5136.859863</td>\n",
       "      <td>5104.350098</td>\n",
       "      <td>5117.089844</td>\n",
       "      <td>7753670000</td>\n",
       "      <td>0.0</td>\n",
       "      <td>0.0</td>\n",
       "    </tr>\n",
       "    <tr>\n",
       "      <th>2024-03-18 00:00:00-04:00</th>\n",
       "      <td>5154.770020</td>\n",
       "      <td>5175.600098</td>\n",
       "      <td>5145.470215</td>\n",
       "      <td>5149.419922</td>\n",
       "      <td>4036220000</td>\n",
       "      <td>0.0</td>\n",
       "      <td>0.0</td>\n",
       "    </tr>\n",
       "    <tr>\n",
       "      <th>2024-03-19 00:00:00-04:00</th>\n",
       "      <td>5139.089844</td>\n",
       "      <td>5180.310059</td>\n",
       "      <td>5131.589844</td>\n",
       "      <td>5178.509766</td>\n",
       "      <td>4031760000</td>\n",
       "      <td>0.0</td>\n",
       "      <td>0.0</td>\n",
       "    </tr>\n",
       "    <tr>\n",
       "      <th>2024-03-20 00:00:00-04:00</th>\n",
       "      <td>5181.689941</td>\n",
       "      <td>5226.189941</td>\n",
       "      <td>5171.549805</td>\n",
       "      <td>5224.620117</td>\n",
       "      <td>4064850000</td>\n",
       "      <td>0.0</td>\n",
       "      <td>0.0</td>\n",
       "    </tr>\n",
       "  </tbody>\n",
       "</table>\n",
       "<p>24170 rows × 7 columns</p>\n",
       "</div>"
      ],
      "text/plain": [
       "                                  Open         High          Low        Close  \\\n",
       "Date                                                                            \n",
       "1927-12-30 00:00:00-05:00    17.660000    17.660000    17.660000    17.660000   \n",
       "1928-01-03 00:00:00-05:00    17.760000    17.760000    17.760000    17.760000   \n",
       "1928-01-04 00:00:00-05:00    17.719999    17.719999    17.719999    17.719999   \n",
       "1928-01-05 00:00:00-05:00    17.549999    17.549999    17.549999    17.549999   \n",
       "1928-01-06 00:00:00-05:00    17.660000    17.660000    17.660000    17.660000   \n",
       "...                                ...          ...          ...          ...   \n",
       "2024-03-14 00:00:00-04:00  5175.140137  5176.850098  5123.299805  5150.479980   \n",
       "2024-03-15 00:00:00-04:00  5123.310059  5136.859863  5104.350098  5117.089844   \n",
       "2024-03-18 00:00:00-04:00  5154.770020  5175.600098  5145.470215  5149.419922   \n",
       "2024-03-19 00:00:00-04:00  5139.089844  5180.310059  5131.589844  5178.509766   \n",
       "2024-03-20 00:00:00-04:00  5181.689941  5226.189941  5171.549805  5224.620117   \n",
       "\n",
       "                               Volume  Dividends  Stock Splits  \n",
       "Date                                                            \n",
       "1927-12-30 00:00:00-05:00           0        0.0           0.0  \n",
       "1928-01-03 00:00:00-05:00           0        0.0           0.0  \n",
       "1928-01-04 00:00:00-05:00           0        0.0           0.0  \n",
       "1928-01-05 00:00:00-05:00           0        0.0           0.0  \n",
       "1928-01-06 00:00:00-05:00           0        0.0           0.0  \n",
       "...                               ...        ...           ...  \n",
       "2024-03-14 00:00:00-04:00  4687970000        0.0           0.0  \n",
       "2024-03-15 00:00:00-04:00  7753670000        0.0           0.0  \n",
       "2024-03-18 00:00:00-04:00  4036220000        0.0           0.0  \n",
       "2024-03-19 00:00:00-04:00  4031760000        0.0           0.0  \n",
       "2024-03-20 00:00:00-04:00  4064850000        0.0           0.0  \n",
       "\n",
       "[24170 rows x 7 columns]"
      ]
     },
     "execution_count": 5,
     "metadata": {},
     "output_type": "execute_result"
    }
   ],
   "source": [
    "df"
   ]
  },
  {
   "cell_type": "code",
   "execution_count": 6,
   "id": "7ae2fc9b",
   "metadata": {},
   "outputs": [],
   "source": [
    "df.index = pd.to_datetime(df.index)"
   ]
  },
  {
   "cell_type": "code",
   "execution_count": 7,
   "id": "856480f9",
   "metadata": {},
   "outputs": [
    {
     "data": {
      "text/plain": [
       "DatetimeIndex(['1927-12-30 00:00:00-05:00', '1928-01-03 00:00:00-05:00',\n",
       "               '1928-01-04 00:00:00-05:00', '1928-01-05 00:00:00-05:00',\n",
       "               '1928-01-06 00:00:00-05:00', '1928-01-09 00:00:00-05:00',\n",
       "               '1928-01-10 00:00:00-05:00', '1928-01-11 00:00:00-05:00',\n",
       "               '1928-01-12 00:00:00-05:00', '1928-01-13 00:00:00-05:00',\n",
       "               ...\n",
       "               '2024-03-07 00:00:00-05:00', '2024-03-08 00:00:00-05:00',\n",
       "               '2024-03-11 00:00:00-04:00', '2024-03-12 00:00:00-04:00',\n",
       "               '2024-03-13 00:00:00-04:00', '2024-03-14 00:00:00-04:00',\n",
       "               '2024-03-15 00:00:00-04:00', '2024-03-18 00:00:00-04:00',\n",
       "               '2024-03-19 00:00:00-04:00', '2024-03-20 00:00:00-04:00'],\n",
       "              dtype='datetime64[ns, America/New_York]', name='Date', length=24170, freq=None)"
      ]
     },
     "execution_count": 7,
     "metadata": {},
     "output_type": "execute_result"
    }
   ],
   "source": [
    "df.index"
   ]
  },
  {
   "cell_type": "code",
   "execution_count": 8,
   "id": "ec2b10a3",
   "metadata": {},
   "outputs": [
    {
     "data": {
      "text/plain": [
       "<AxesSubplot:xlabel='Date'>"
      ]
     },
     "execution_count": 8,
     "metadata": {},
     "output_type": "execute_result"
    },
    {
     "data": {
      "image/png": "[encoded data removed]",
      "text/plain": [
       "<Figure size 640x480 with 1 Axes>"
      ]
     },
     "metadata": {},
     "output_type": "display_data"
    }
   ],
   "source": [
    "df.plot(y='Close',use_index=True)"
   ]
  },
  {
   "cell_type": "code",
   "execution_count": 9,
   "id": "73bf5c16",
   "metadata": {},
   "outputs": [],
   "source": [
    "del df['Dividends']\n",
    "del df['Stock Splits']"
   ]
  },
  {
   "cell_type": "code",
   "execution_count": 10,
   "id": "42f7da06",
   "metadata": {},
   "outputs": [],
   "source": [
    "df['Tomorrow'] = df['Close'].shift(-1)"
   ]
  },
  {
   "cell_type": "code",
   "execution_count": 11,
   "id": "b14ec121",
   "metadata": {},
   "outputs": [],
   "source": [
    "df['Target'] = (df['Tomorrow'] > df['Close']).astype(int)"
   ]
  },
  {
   "cell_type": "code",
   "execution_count": 12,
   "id": "ac586eff",
   "metadata": {},
   "outputs": [
    {
     "data": {
      "text/html": [
       "<div>\n",
       "<style scoped>\n",
       "    .dataframe tbody tr th:only-of-type {\n",
       "        vertical-align: middle;\n",
       "    }\n",
       "\n",
       "    .dataframe tbody tr th {\n",
       "        vertical-align: top;\n",
       "    }\n",
       "\n",
       "    .dataframe thead th {\n",
       "        text-align: right;\n",
       "    }\n",
       "</style>\n",
       "<table border=\"1\" class=\"dataframe\">\n",
       "  <thead>\n",
       "    <tr style=\"text-align: right;\">\n",
       "      <th></th>\n",
       "      <th>Open</th>\n",
       "      <th>High</th>\n",
       "      <th>Low</th>\n",
       "      <th>Close</th>\n",
       "      <th>Volume</th>\n",
       "      <th>Tomorrow</th>\n",
       "      <th>Target</th>\n",
       "    </tr>\n",
       "    <tr>\n",
       "      <th>Date</th>\n",
       "      <th></th>\n",
       "      <th></th>\n",
       "      <th></th>\n",
       "      <th></th>\n",
       "      <th></th>\n",
       "      <th></th>\n",
       "      <th></th>\n",
       "    </tr>\n",
       "  </thead>\n",
       "  <tbody>\n",
       "    <tr>\n",
       "      <th>1927-12-30 00:00:00-05:00</th>\n",
       "      <td>17.660000</td>\n",
       "      <td>17.660000</td>\n",
       "      <td>17.660000</td>\n",
       "      <td>17.660000</td>\n",
       "      <td>0</td>\n",
       "      <td>17.760000</td>\n",
       "      <td>1</td>\n",
       "    </tr>\n",
       "    <tr>\n",
       "      <th>1928-01-03 00:00:00-05:00</th>\n",
       "      <td>17.760000</td>\n",
       "      <td>17.760000</td>\n",
       "      <td>17.760000</td>\n",
       "      <td>17.760000</td>\n",
       "      <td>0</td>\n",
       "      <td>17.719999</td>\n",
       "      <td>0</td>\n",
       "    </tr>\n",
       "    <tr>\n",
       "      <th>1928-01-04 00:00:00-05:00</th>\n",
       "      <td>17.719999</td>\n",
       "      <td>17.719999</td>\n",
       "      <td>17.719999</td>\n",
       "      <td>17.719999</td>\n",
       "      <td>0</td>\n",
       "      <td>17.549999</td>\n",
       "      <td>0</td>\n",
       "    </tr>\n",
       "    <tr>\n",
       "      <th>1928-01-05 00:00:00-05:00</th>\n",
       "      <td>17.549999</td>\n",
       "      <td>17.549999</td>\n",
       "      <td>17.549999</td>\n",
       "      <td>17.549999</td>\n",
       "      <td>0</td>\n",
       "      <td>17.660000</td>\n",
       "      <td>1</td>\n",
       "    </tr>\n",
       "    <tr>\n",
       "      <th>1928-01-06 00:00:00-05:00</th>\n",
       "      <td>17.660000</td>\n",
       "      <td>17.660000</td>\n",
       "      <td>17.660000</td>\n",
       "      <td>17.660000</td>\n",
       "      <td>0</td>\n",
       "      <td>17.500000</td>\n",
       "      <td>0</td>\n",
       "    </tr>\n",
       "    <tr>\n",
       "      <th>...</th>\n",
       "      <td>...</td>\n",
       "      <td>...</td>\n",
       "      <td>...</td>\n",
       "      <td>...</td>\n",
       "      <td>...</td>\n",
       "      <td>...</td>\n",
       "      <td>...</td>\n",
       "    </tr>\n",
       "    <tr>\n",
       "      <th>2024-03-14 00:00:00-04:00</th>\n",
       "      <td>5175.140137</td>\n",
       "      <td>5176.850098</td>\n",
       "      <td>5123.299805</td>\n",
       "      <td>5150.479980</td>\n",
       "      <td>4687970000</td>\n",
       "      <td>5117.089844</td>\n",
       "      <td>0</td>\n",
       "    </tr>\n",
       "    <tr>\n",
       "      <th>2024-03-15 00:00:00-04:00</th>\n",
       "      <td>5123.310059</td>\n",
       "      <td>5136.859863</td>\n",
       "      <td>5104.350098</td>\n",
       "      <td>5117.089844</td>\n",
       "      <td>7753670000</td>\n",
       "      <td>5149.419922</td>\n",
       "      <td>1</td>\n",
       "    </tr>\n",
       "    <tr>\n",
       "      <th>2024-03-18 00:00:00-04:00</th>\n",
       "      <td>5154.770020</td>\n",
       "      <td>5175.600098</td>\n",
       "      <td>5145.470215</td>\n",
       "      <td>5149.419922</td>\n",
       "      <td>4036220000</td>\n",
       "      <td>5178.509766</td>\n",
       "      <td>1</td>\n",
       "    </tr>\n",
       "    <tr>\n",
       "      <th>2024-03-19 00:00:00-04:00</th>\n",
       "      <td>5139.089844</td>\n",
       "      <td>5180.310059</td>\n",
       "      <td>5131.589844</td>\n",
       "      <td>5178.509766</td>\n",
       "      <td>4031760000</td>\n",
       "      <td>5224.620117</td>\n",
       "      <td>1</td>\n",
       "    </tr>\n",
       "    <tr>\n",
       "      <th>2024-03-20 00:00:00-04:00</th>\n",
       "      <td>5181.689941</td>\n",
       "      <td>5226.189941</td>\n",
       "      <td>5171.549805</td>\n",
       "      <td>5224.620117</td>\n",
       "      <td>4064850000</td>\n",
       "      <td>NaN</td>\n",
       "      <td>0</td>\n",
       "    </tr>\n",
       "  </tbody>\n",
       "</table>\n",
       "<p>24170 rows × 7 columns</p>\n",
       "</div>"
      ],
      "text/plain": [
       "                                  Open         High          Low        Close  \\\n",
       "Date                                                                            \n",
       "1927-12-30 00:00:00-05:00    17.660000    17.660000    17.660000    17.660000   \n",
       "1928-01-03 00:00:00-05:00    17.760000    17.760000    17.760000    17.760000   \n",
       "1928-01-04 00:00:00-05:00    17.719999    17.719999    17.719999    17.719999   \n",
       "1928-01-05 00:00:00-05:00    17.549999    17.549999    17.549999    17.549999   \n",
       "1928-01-06 00:00:00-05:00    17.660000    17.660000    17.660000    17.660000   \n",
       "...                                ...          ...          ...          ...   \n",
       "2024-03-14 00:00:00-04:00  5175.140137  5176.850098  5123.299805  5150.479980   \n",
       "2024-03-15 00:00:00-04:00  5123.310059  5136.859863  5104.350098  5117.089844   \n",
       "2024-03-18 00:00:00-04:00  5154.770020  5175.600098  5145.470215  5149.419922   \n",
       "2024-03-19 00:00:00-04:00  5139.089844  5180.310059  5131.589844  5178.509766   \n",
       "2024-03-20 00:00:00-04:00  5181.689941  5226.189941  5171.549805  5224.620117   \n",
       "\n",
       "                               Volume     Tomorrow  Target  \n",
       "Date                                                        \n",
       "1927-12-30 00:00:00-05:00           0    17.760000       1  \n",
       "1928-01-03 00:00:00-05:00           0    17.719999       0  \n",
       "1928-01-04 00:00:00-05:00           0    17.549999       0  \n",
       "1928-01-05 00:00:00-05:00           0    17.660000       1  \n",
       "1928-01-06 00:00:00-05:00           0    17.500000       0  \n",
       "...                               ...          ...     ...  \n",
       "2024-03-14 00:00:00-04:00  4687970000  5117.089844       0  \n",
       "2024-03-15 00:00:00-04:00  7753670000  5149.419922       1  \n",
       "2024-03-18 00:00:00-04:00  4036220000  5178.509766       1  \n",
       "2024-03-19 00:00:00-04:00  4031760000  5224.620117       1  \n",
       "2024-03-20 00:00:00-04:00  4064850000          NaN       0  \n",
       "\n",
       "[24170 rows x 7 columns]"
      ]
     },
     "execution_count": 12,
     "metadata": {},
     "output_type": "execute_result"
    }
   ],
   "source": [
    "df"
   ]
  },
  {
   "cell_type": "code",
   "execution_count": 13,
   "id": "7ba58024",
   "metadata": {},
   "outputs": [],
   "source": [
    "df = df.loc[\"1990-01-01\":].copy()          #Taking only recent historical data into consideration"
   ]
  },
  {
   "cell_type": "code",
   "execution_count": 14,
   "id": "2b45a662",
   "metadata": {},
   "outputs": [
    {
     "data": {
      "text/plain": [
       "(8620, 7)"
      ]
     },
     "execution_count": 14,
     "metadata": {},
     "output_type": "execute_result"
    }
   ],
   "source": [
    "df.shape"
   ]
  },
  {
   "cell_type": "code",
   "execution_count": 15,
   "id": "5d551fcf",
   "metadata": {},
   "outputs": [
    {
     "data": {
      "text/plain": [
       "RandomForestClassifier(min_samples_split=100, random_state=42)"
      ]
     },
     "execution_count": 15,
     "metadata": {},
     "output_type": "execute_result"
    }
   ],
   "source": [
    "from sklearn.ensemble import RandomForestClassifier\n",
    "#RF classifiers can identify non-linear relationships. Here the relationship between price and target is non-linear. \n",
    "\n",
    "model = RandomForestClassifier(n_estimators=100, min_samples_split=100, random_state=42)\n",
    "\n",
    "train = df.iloc[:-114]\n",
    "test = df.iloc[-114:]\n",
    "\n",
    "predictors = [\"Close\", \"Volume\", \"Open\", \"High\", \"Low\"]\n",
    "model.fit(train[predictors], train[\"Target\"])"
   ]
  },
  {
   "cell_type": "code",
   "execution_count": 16,
   "id": "5a7b3c4b",
   "metadata": {},
   "outputs": [],
   "source": [
    "pred = model.predict(test[predictors])\n",
    "pred = pd.Series(pred,index = test.index)"
   ]
  },
  {
   "cell_type": "code",
   "execution_count": 17,
   "id": "a11250ea",
   "metadata": {},
   "outputs": [
    {
     "data": {
      "text/plain": [
       "0.5"
      ]
     },
     "execution_count": 17,
     "metadata": {},
     "output_type": "execute_result"
    }
   ],
   "source": [
    "from sklearn.metrics import precision_score\n",
    "precision_score(test['Target'],pred)"
   ]
  },
  {
   "cell_type": "code",
   "execution_count": 18,
   "id": "5ec95568",
   "metadata": {},
   "outputs": [],
   "source": [
    "combined = pd.concat([test[\"Target\"], pred], axis=1)"
   ]
  },
  {
   "cell_type": "code",
   "execution_count": 19,
   "id": "14bc9be4",
   "metadata": {},
   "outputs": [
    {
     "data": {
      "text/plain": [
       "<AxesSubplot:xlabel='Date'>"
      ]
     },
     "execution_count": 19,
     "metadata": {},
     "output_type": "execute_result"
    },
    {
     "data": {
      "image/png": "[encoded data removed]",
      "text/plain": [
       "<Figure size 640x480 with 1 Axes>"
      ]
     },
     "metadata": {},
     "output_type": "display_data"
    }
   ],
   "source": [
    "combined.plot()"
   ]
  },
  {
   "cell_type": "code",
   "execution_count": 20,
   "id": "f6979d0b",
   "metadata": {},
   "outputs": [],
   "source": [
    "import copy\n",
    "def prediction(train, test, predictors, model):\n",
    "    model.fit(train[predictors], train[\"Target\"])\n",
    "    pred = model.predict(test[predictors])\n",
    "    pred = pd.Series(pred,index = test.index, name = 'Predictions')\n",
    "    combined = pd.concat([test[\"Target\"], pred], axis=1)\n",
    "    return combined\n",
    "\n",
    "def backtesting(data, predictors, model, start = 2500, step = 250):\n",
    "    all_pred = []\n",
    "    for i in range(start, data.shape[0], step):\n",
    "        train = copy.deepcopy(data[0:i])\n",
    "        test = copy.deepcopy(data[i:i+step])\n",
    "        pred_curr = prediction(train, test, predictors, model)\n",
    "        all_pred.append(pred_curr)\n",
    "    return all_pred\n",
    "predictions1 = backtesting(df, predictors, model)"
   ]
  },
  {
   "cell_type": "code",
   "execution_count": 21,
   "id": "1f0a1bbd",
   "metadata": {},
   "outputs": [],
   "source": [
    "predictions1 = pd.concat(predictions1)\n"
   ]
  },
  {
   "cell_type": "code",
   "execution_count": 22,
   "id": "c8653a14",
   "metadata": {},
   "outputs": [
    {
     "data": {
      "text/html": [
       "<div>\n",
       "<style scoped>\n",
       "    .dataframe tbody tr th:only-of-type {\n",
       "        vertical-align: middle;\n",
       "    }\n",
       "\n",
       "    .dataframe tbody tr th {\n",
       "        vertical-align: top;\n",
       "    }\n",
       "\n",
       "    .dataframe thead th {\n",
       "        text-align: right;\n",
       "    }\n",
       "</style>\n",
       "<table border=\"1\" class=\"dataframe\">\n",
       "  <thead>\n",
       "    <tr style=\"text-align: right;\">\n",
       "      <th></th>\n",
       "      <th>Target</th>\n",
       "      <th>Predictions</th>\n",
       "    </tr>\n",
       "    <tr>\n",
       "      <th>Date</th>\n",
       "      <th></th>\n",
       "      <th></th>\n",
       "    </tr>\n",
       "  </thead>\n",
       "  <tbody>\n",
       "    <tr>\n",
       "      <th>1999-11-22 00:00:00-05:00</th>\n",
       "      <td>0</td>\n",
       "      <td>0</td>\n",
       "    </tr>\n",
       "    <tr>\n",
       "      <th>1999-11-23 00:00:00-05:00</th>\n",
       "      <td>1</td>\n",
       "      <td>0</td>\n",
       "    </tr>\n",
       "    <tr>\n",
       "      <th>1999-11-24 00:00:00-05:00</th>\n",
       "      <td>0</td>\n",
       "      <td>0</td>\n",
       "    </tr>\n",
       "    <tr>\n",
       "      <th>1999-11-26 00:00:00-05:00</th>\n",
       "      <td>0</td>\n",
       "      <td>0</td>\n",
       "    </tr>\n",
       "    <tr>\n",
       "      <th>1999-11-29 00:00:00-05:00</th>\n",
       "      <td>0</td>\n",
       "      <td>0</td>\n",
       "    </tr>\n",
       "    <tr>\n",
       "      <th>...</th>\n",
       "      <td>...</td>\n",
       "      <td>...</td>\n",
       "    </tr>\n",
       "    <tr>\n",
       "      <th>2024-03-14 00:00:00-04:00</th>\n",
       "      <td>0</td>\n",
       "      <td>0</td>\n",
       "    </tr>\n",
       "    <tr>\n",
       "      <th>2024-03-15 00:00:00-04:00</th>\n",
       "      <td>1</td>\n",
       "      <td>0</td>\n",
       "    </tr>\n",
       "    <tr>\n",
       "      <th>2024-03-18 00:00:00-04:00</th>\n",
       "      <td>1</td>\n",
       "      <td>0</td>\n",
       "    </tr>\n",
       "    <tr>\n",
       "      <th>2024-03-19 00:00:00-04:00</th>\n",
       "      <td>1</td>\n",
       "      <td>0</td>\n",
       "    </tr>\n",
       "    <tr>\n",
       "      <th>2024-03-20 00:00:00-04:00</th>\n",
       "      <td>0</td>\n",
       "      <td>0</td>\n",
       "    </tr>\n",
       "  </tbody>\n",
       "</table>\n",
       "<p>6120 rows × 2 columns</p>\n",
       "</div>"
      ],
      "text/plain": [
       "                           Target  Predictions\n",
       "Date                                          \n",
       "1999-11-22 00:00:00-05:00       0            0\n",
       "1999-11-23 00:00:00-05:00       1            0\n",
       "1999-11-24 00:00:00-05:00       0            0\n",
       "1999-11-26 00:00:00-05:00       0            0\n",
       "1999-11-29 00:00:00-05:00       0            0\n",
       "...                           ...          ...\n",
       "2024-03-14 00:00:00-04:00       0            0\n",
       "2024-03-15 00:00:00-04:00       1            0\n",
       "2024-03-18 00:00:00-04:00       1            0\n",
       "2024-03-19 00:00:00-04:00       1            0\n",
       "2024-03-20 00:00:00-04:00       0            0\n",
       "\n",
       "[6120 rows x 2 columns]"
      ]
     },
     "execution_count": 22,
     "metadata": {},
     "output_type": "execute_result"
    }
   ],
   "source": [
    "predictions1"
   ]
  },
  {
   "cell_type": "code",
   "execution_count": 23,
   "id": "8764515b",
   "metadata": {},
   "outputs": [
    {
     "data": {
      "text/plain": [
       "Predictions\n",
       "0    3405\n",
       "1    2715\n",
       "Name: count, dtype: int64"
      ]
     },
     "execution_count": 23,
     "metadata": {},
     "output_type": "execute_result"
    }
   ],
   "source": [
    "predictions1['Predictions'].value_counts()"
   ]
  },
  {
   "cell_type": "code",
   "execution_count": 24,
   "id": "b8adc4b5",
   "metadata": {},
   "outputs": [
    {
     "data": {
      "text/plain": [
       "0.5307550644567219"
      ]
     },
     "execution_count": 24,
     "metadata": {},
     "output_type": "execute_result"
    }
   ],
   "source": [
    "precision_score(predictions1['Target'],predictions1['Predictions'])"
   ]
  },
  {
   "cell_type": "code",
   "execution_count": 28,
   "id": "96e171be",
   "metadata": {},
   "outputs": [],
   "source": [
    "horizons = [2,5,60,250,1000]             #Taking rolling averages upto different time periods: 2days,5days,2months,1ye(ar,4years\n",
    "new_predictors = []\n",
    "for horizon in horizons:\n",
    "    roll_avg = df.rolling(horizon).mean()    #Taking the rolling avg of all columns for this duration\n",
    "#     print(type(roll_avg))\n",
    "    ratio_col = f'Close_ratio_{horizon}'\n",
    "    df[ratio_col] = df['Close']/roll_avg['Close']    #To understand whether current value is above the rolling avg or not\n",
    "    \n",
    "    trend_col = f'trend_{horizon}'\n",
    "    df[trend_col] = df.shift(1).rolling(horizon).sum()['Target']   #To understand how many times in the window the value has gone up\n",
    "    \n",
    "    new_predictors += [ratio_col, trend_col]\n"
   ]
  },
  {
   "cell_type": "code",
   "execution_count": 29,
   "id": "bc3e150b",
   "metadata": {},
   "outputs": [],
   "source": [
    "df = df.dropna(subset=df.columns[df.columns != \"Tomorrow\"])"
   ]
  },
  {
   "cell_type": "code",
   "execution_count": 30,
   "id": "c9790311",
   "metadata": {
    "scrolled": true
   },
   "outputs": [
    {
     "data": {
      "text/html": [
       "<div>\n",
       "<style scoped>\n",
       "    .dataframe tbody tr th:only-of-type {\n",
       "        vertical-align: middle;\n",
       "    }\n",
       "\n",
       "    .dataframe tbody tr th {\n",
       "        vertical-align: top;\n",
       "    }\n",
       "\n",
       "    .dataframe thead th {\n",
       "        text-align: right;\n",
       "    }\n",
       "</style>\n",
       "<table border=\"1\" class=\"dataframe\">\n",
       "  <thead>\n",
       "    <tr style=\"text-align: right;\">\n",
       "      <th></th>\n",
       "      <th>Open</th>\n",
       "      <th>High</th>\n",
       "      <th>Low</th>\n",
       "      <th>Close</th>\n",
       "      <th>Volume</th>\n",
       "      <th>Tomorrow</th>\n",
       "      <th>Target</th>\n",
       "      <th>Close_ratio_2</th>\n",
       "      <th>trend_2</th>\n",
       "      <th>Close_ratio_5</th>\n",
       "      <th>trend_5</th>\n",
       "      <th>Close_ratio_60</th>\n",
       "      <th>trend_60</th>\n",
       "      <th>Close_ratio_250</th>\n",
       "      <th>trend_250</th>\n",
       "      <th>Close_ratio_1000</th>\n",
       "      <th>trend_1000</th>\n",
       "    </tr>\n",
       "    <tr>\n",
       "      <th>Date</th>\n",
       "      <th></th>\n",
       "      <th></th>\n",
       "      <th></th>\n",
       "      <th></th>\n",
       "      <th></th>\n",
       "      <th></th>\n",
       "      <th></th>\n",
       "      <th></th>\n",
       "      <th></th>\n",
       "      <th></th>\n",
       "      <th></th>\n",
       "      <th></th>\n",
       "      <th></th>\n",
       "      <th></th>\n",
       "      <th></th>\n",
       "      <th></th>\n",
       "      <th></th>\n",
       "    </tr>\n",
       "  </thead>\n",
       "  <tbody>\n",
       "    <tr>\n",
       "      <th>1993-12-14 00:00:00-05:00</th>\n",
       "      <td>465.730011</td>\n",
       "      <td>466.119995</td>\n",
       "      <td>462.459991</td>\n",
       "      <td>463.059998</td>\n",
       "      <td>275050000</td>\n",
       "      <td>461.839996</td>\n",
       "      <td>0</td>\n",
       "      <td>0.997157</td>\n",
       "      <td>1.0</td>\n",
       "      <td>0.996617</td>\n",
       "      <td>1.0</td>\n",
       "      <td>1.000283</td>\n",
       "      <td>32.0</td>\n",
       "      <td>1.028047</td>\n",
       "      <td>127.0</td>\n",
       "      <td>1.176082</td>\n",
       "      <td>512.0</td>\n",
       "    </tr>\n",
       "    <tr>\n",
       "      <th>1993-12-15 00:00:00-05:00</th>\n",
       "      <td>463.059998</td>\n",
       "      <td>463.690002</td>\n",
       "      <td>461.839996</td>\n",
       "      <td>461.839996</td>\n",
       "      <td>331770000</td>\n",
       "      <td>463.339996</td>\n",
       "      <td>1</td>\n",
       "      <td>0.998681</td>\n",
       "      <td>0.0</td>\n",
       "      <td>0.995899</td>\n",
       "      <td>1.0</td>\n",
       "      <td>0.997329</td>\n",
       "      <td>32.0</td>\n",
       "      <td>1.025151</td>\n",
       "      <td>126.0</td>\n",
       "      <td>1.172676</td>\n",
       "      <td>512.0</td>\n",
       "    </tr>\n",
       "    <tr>\n",
       "      <th>1993-12-16 00:00:00-05:00</th>\n",
       "      <td>461.859985</td>\n",
       "      <td>463.980011</td>\n",
       "      <td>461.859985</td>\n",
       "      <td>463.339996</td>\n",
       "      <td>284620000</td>\n",
       "      <td>466.380005</td>\n",
       "      <td>1</td>\n",
       "      <td>1.001621</td>\n",
       "      <td>1.0</td>\n",
       "      <td>0.999495</td>\n",
       "      <td>2.0</td>\n",
       "      <td>1.000311</td>\n",
       "      <td>32.0</td>\n",
       "      <td>1.028274</td>\n",
       "      <td>127.0</td>\n",
       "      <td>1.176163</td>\n",
       "      <td>513.0</td>\n",
       "    </tr>\n",
       "    <tr>\n",
       "      <th>1993-12-17 00:00:00-05:00</th>\n",
       "      <td>463.339996</td>\n",
       "      <td>466.380005</td>\n",
       "      <td>463.339996</td>\n",
       "      <td>466.380005</td>\n",
       "      <td>363750000</td>\n",
       "      <td>465.850006</td>\n",
       "      <td>0</td>\n",
       "      <td>1.003270</td>\n",
       "      <td>2.0</td>\n",
       "      <td>1.004991</td>\n",
       "      <td>3.0</td>\n",
       "      <td>1.006561</td>\n",
       "      <td>32.0</td>\n",
       "      <td>1.034781</td>\n",
       "      <td>128.0</td>\n",
       "      <td>1.183537</td>\n",
       "      <td>514.0</td>\n",
       "    </tr>\n",
       "    <tr>\n",
       "      <th>1993-12-20 00:00:00-05:00</th>\n",
       "      <td>466.380005</td>\n",
       "      <td>466.899994</td>\n",
       "      <td>465.529999</td>\n",
       "      <td>465.850006</td>\n",
       "      <td>255900000</td>\n",
       "      <td>465.299988</td>\n",
       "      <td>0</td>\n",
       "      <td>0.999431</td>\n",
       "      <td>1.0</td>\n",
       "      <td>1.003784</td>\n",
       "      <td>2.0</td>\n",
       "      <td>1.005120</td>\n",
       "      <td>32.0</td>\n",
       "      <td>1.033359</td>\n",
       "      <td>128.0</td>\n",
       "      <td>1.181856</td>\n",
       "      <td>513.0</td>\n",
       "    </tr>\n",
       "    <tr>\n",
       "      <th>...</th>\n",
       "      <td>...</td>\n",
       "      <td>...</td>\n",
       "      <td>...</td>\n",
       "      <td>...</td>\n",
       "      <td>...</td>\n",
       "      <td>...</td>\n",
       "      <td>...</td>\n",
       "      <td>...</td>\n",
       "      <td>...</td>\n",
       "      <td>...</td>\n",
       "      <td>...</td>\n",
       "      <td>...</td>\n",
       "      <td>...</td>\n",
       "      <td>...</td>\n",
       "      <td>...</td>\n",
       "      <td>...</td>\n",
       "      <td>...</td>\n",
       "    </tr>\n",
       "    <tr>\n",
       "      <th>2024-03-14 00:00:00-04:00</th>\n",
       "      <td>5175.140137</td>\n",
       "      <td>5176.850098</td>\n",
       "      <td>5123.299805</td>\n",
       "      <td>5150.479980</td>\n",
       "      <td>4687970000</td>\n",
       "      <td>5117.089844</td>\n",
       "      <td>0</td>\n",
       "      <td>0.998562</td>\n",
       "      <td>0.0</td>\n",
       "      <td>1.000766</td>\n",
       "      <td>1.0</td>\n",
       "      <td>1.046515</td>\n",
       "      <td>35.0</td>\n",
       "      <td>1.150413</td>\n",
       "      <td>140.0</td>\n",
       "      <td>1.266551</td>\n",
       "      <td>533.0</td>\n",
       "    </tr>\n",
       "    <tr>\n",
       "      <th>2024-03-15 00:00:00-04:00</th>\n",
       "      <td>5123.310059</td>\n",
       "      <td>5136.859863</td>\n",
       "      <td>5104.350098</td>\n",
       "      <td>5117.089844</td>\n",
       "      <td>7753670000</td>\n",
       "      <td>5149.419922</td>\n",
       "      <td>1</td>\n",
       "      <td>0.996748</td>\n",
       "      <td>0.0</td>\n",
       "      <td>0.994533</td>\n",
       "      <td>1.0</td>\n",
       "      <td>1.038407</td>\n",
       "      <td>34.0</td>\n",
       "      <td>1.141730</td>\n",
       "      <td>140.0</td>\n",
       "      <td>1.257523</td>\n",
       "      <td>532.0</td>\n",
       "    </tr>\n",
       "    <tr>\n",
       "      <th>2024-03-18 00:00:00-04:00</th>\n",
       "      <td>5154.770020</td>\n",
       "      <td>5175.600098</td>\n",
       "      <td>5145.470215</td>\n",
       "      <td>5149.419922</td>\n",
       "      <td>4036220000</td>\n",
       "      <td>5178.509766</td>\n",
       "      <td>1</td>\n",
       "      <td>1.003149</td>\n",
       "      <td>1.0</td>\n",
       "      <td>0.999594</td>\n",
       "      <td>2.0</td>\n",
       "      <td>1.043622</td>\n",
       "      <td>34.0</td>\n",
       "      <td>1.147717</td>\n",
       "      <td>140.0</td>\n",
       "      <td>1.264685</td>\n",
       "      <td>532.0</td>\n",
       "    </tr>\n",
       "    <tr>\n",
       "      <th>2024-03-19 00:00:00-04:00</th>\n",
       "      <td>5139.089844</td>\n",
       "      <td>5180.310059</td>\n",
       "      <td>5131.589844</td>\n",
       "      <td>5178.509766</td>\n",
       "      <td>4031760000</td>\n",
       "      <td>5224.620117</td>\n",
       "      <td>1</td>\n",
       "      <td>1.002817</td>\n",
       "      <td>2.0</td>\n",
       "      <td>1.005114</td>\n",
       "      <td>2.0</td>\n",
       "      <td>1.047818</td>\n",
       "      <td>35.0</td>\n",
       "      <td>1.152992</td>\n",
       "      <td>140.0</td>\n",
       "      <td>1.271007</td>\n",
       "      <td>533.0</td>\n",
       "    </tr>\n",
       "    <tr>\n",
       "      <th>2024-03-20 00:00:00-04:00</th>\n",
       "      <td>5181.689941</td>\n",
       "      <td>5226.189941</td>\n",
       "      <td>5171.549805</td>\n",
       "      <td>5224.620117</td>\n",
       "      <td>4064850000</td>\n",
       "      <td>NaN</td>\n",
       "      <td>0</td>\n",
       "      <td>1.004432</td>\n",
       "      <td>2.0</td>\n",
       "      <td>1.011734</td>\n",
       "      <td>3.0</td>\n",
       "      <td>1.055447</td>\n",
       "      <td>35.0</td>\n",
       "      <td>1.161926</td>\n",
       "      <td>141.0</td>\n",
       "      <td>1.281507</td>\n",
       "      <td>533.0</td>\n",
       "    </tr>\n",
       "  </tbody>\n",
       "</table>\n",
       "<p>7620 rows × 17 columns</p>\n",
       "</div>"
      ],
      "text/plain": [
       "                                  Open         High          Low        Close  \\\n",
       "Date                                                                            \n",
       "1993-12-14 00:00:00-05:00   465.730011   466.119995   462.459991   463.059998   \n",
       "1993-12-15 00:00:00-05:00   463.059998   463.690002   461.839996   461.839996   \n",
       "1993-12-16 00:00:00-05:00   461.859985   463.980011   461.859985   463.339996   \n",
       "1993-12-17 00:00:00-05:00   463.339996   466.380005   463.339996   466.380005   \n",
       "1993-12-20 00:00:00-05:00   466.380005   466.899994   465.529999   465.850006   \n",
       "...                                ...          ...          ...          ...   \n",
       "2024-03-14 00:00:00-04:00  5175.140137  5176.850098  5123.299805  5150.479980   \n",
       "2024-03-15 00:00:00-04:00  5123.310059  5136.859863  5104.350098  5117.089844   \n",
       "2024-03-18 00:00:00-04:00  5154.770020  5175.600098  5145.470215  5149.419922   \n",
       "2024-03-19 00:00:00-04:00  5139.089844  5180.310059  5131.589844  5178.509766   \n",
       "2024-03-20 00:00:00-04:00  5181.689941  5226.189941  5171.549805  5224.620117   \n",
       "\n",
       "                               Volume     Tomorrow  Target  Close_ratio_2  \\\n",
       "Date                                                                        \n",
       "1993-12-14 00:00:00-05:00   275050000   461.839996       0       0.997157   \n",
       "1993-12-15 00:00:00-05:00   331770000   463.339996       1       0.998681   \n",
       "1993-12-16 00:00:00-05:00   284620000   466.380005       1       1.001621   \n",
       "1993-12-17 00:00:00-05:00   363750000   465.850006       0       1.003270   \n",
       "1993-12-20 00:00:00-05:00   255900000   465.299988       0       0.999431   \n",
       "...                               ...          ...     ...            ...   \n",
       "2024-03-14 00:00:00-04:00  4687970000  5117.089844       0       0.998562   \n",
       "2024-03-15 00:00:00-04:00  7753670000  5149.419922       1       0.996748   \n",
       "2024-03-18 00:00:00-04:00  4036220000  5178.509766       1       1.003149   \n",
       "2024-03-19 00:00:00-04:00  4031760000  5224.620117       1       1.002817   \n",
       "2024-03-20 00:00:00-04:00  4064850000          NaN       0       1.004432   \n",
       "\n",
       "                           trend_2  Close_ratio_5  trend_5  Close_ratio_60  \\\n",
       "Date                                                                         \n",
       "1993-12-14 00:00:00-05:00      1.0       0.996617      1.0        1.000283   \n",
       "1993-12-15 00:00:00-05:00      0.0       0.995899      1.0        0.997329   \n",
       "1993-12-16 00:00:00-05:00      1.0       0.999495      2.0        1.000311   \n",
       "1993-12-17 00:00:00-05:00      2.0       1.004991      3.0        1.006561   \n",
       "1993-12-20 00:00:00-05:00      1.0       1.003784      2.0        1.005120   \n",
       "...                            ...            ...      ...             ...   \n",
       "2024-03-14 00:00:00-04:00      0.0       1.000766      1.0        1.046515   \n",
       "2024-03-15 00:00:00-04:00      0.0       0.994533      1.0        1.038407   \n",
       "2024-03-18 00:00:00-04:00      1.0       0.999594      2.0        1.043622   \n",
       "2024-03-19 00:00:00-04:00      2.0       1.005114      2.0        1.047818   \n",
       "2024-03-20 00:00:00-04:00      2.0       1.011734      3.0        1.055447   \n",
       "\n",
       "                           trend_60  Close_ratio_250  trend_250  \\\n",
       "Date                                                              \n",
       "1993-12-14 00:00:00-05:00      32.0         1.028047      127.0   \n",
       "1993-12-15 00:00:00-05:00      32.0         1.025151      126.0   \n",
       "1993-12-16 00:00:00-05:00      32.0         1.028274      127.0   \n",
       "1993-12-17 00:00:00-05:00      32.0         1.034781      128.0   \n",
       "1993-12-20 00:00:00-05:00      32.0         1.033359      128.0   \n",
       "...                             ...              ...        ...   \n",
       "2024-03-14 00:00:00-04:00      35.0         1.150413      140.0   \n",
       "2024-03-15 00:00:00-04:00      34.0         1.141730      140.0   \n",
       "2024-03-18 00:00:00-04:00      34.0         1.147717      140.0   \n",
       "2024-03-19 00:00:00-04:00      35.0         1.152992      140.0   \n",
       "2024-03-20 00:00:00-04:00      35.0         1.161926      141.0   \n",
       "\n",
       "                           Close_ratio_1000  trend_1000  \n",
       "Date                                                     \n",
       "1993-12-14 00:00:00-05:00          1.176082       512.0  \n",
       "1993-12-15 00:00:00-05:00          1.172676       512.0  \n",
       "1993-12-16 00:00:00-05:00          1.176163       513.0  \n",
       "1993-12-17 00:00:00-05:00          1.183537       514.0  \n",
       "1993-12-20 00:00:00-05:00          1.181856       513.0  \n",
       "...                                     ...         ...  \n",
       "2024-03-14 00:00:00-04:00          1.266551       533.0  \n",
       "2024-03-15 00:00:00-04:00          1.257523       532.0  \n",
       "2024-03-18 00:00:00-04:00          1.264685       532.0  \n",
       "2024-03-19 00:00:00-04:00          1.271007       533.0  \n",
       "2024-03-20 00:00:00-04:00          1.281507       533.0  \n",
       "\n",
       "[7620 rows x 17 columns]"
      ]
     },
     "execution_count": 30,
     "metadata": {},
     "output_type": "execute_result"
    }
   ],
   "source": [
    "df"
   ]
  },
  {
   "cell_type": "code",
   "execution_count": 37,
   "id": "d0a8f87d",
   "metadata": {},
   "outputs": [],
   "source": [
    "model = RandomForestClassifier(n_estimators=200, min_samples_split=50, random_state=1)\n",
    "#Keeping random_state=1 means model output won't change if other parameters aren't changed. So no randomness"
   ]
  },
  {
   "cell_type": "code",
   "execution_count": 38,
   "id": "65701635",
   "metadata": {},
   "outputs": [],
   "source": [
    "def prediction(train, test, predictors, model):               #new prediction function to predict on the basis of custom probability \n",
    "    model.fit(train[predictors], train[\"Target\"])\n",
    "    preds = model.predict_proba(test[predictors])[:,1]     #Getting probability of getting 1 instead of predicting whether 1 or 0\n",
    "    preds[preds >=.6] = 1                                  #Then using that prob to make judgement\n",
    "    preds[preds <.6] = 0\n",
    "    preds = pd.Series(preds, index=test.index, name=\"Predictions\")\n",
    "    combined = pd.concat([test[\"Target\"], preds], axis=1)\n",
    "    return combined"
   ]
  },
  {
   "cell_type": "code",
   "execution_count": 40,
   "id": "a531324b",
   "metadata": {},
   "outputs": [
    {
     "data": {
      "text/plain": [
       "RandomForestClassifier(min_samples_split=50, n_estimators=200, random_state=1)"
      ]
     },
     "execution_count": 40,
     "metadata": {},
     "output_type": "execute_result"
    }
   ],
   "source": [
    "model"
   ]
  },
  {
   "cell_type": "code",
   "execution_count": 51,
   "id": "02e6af4f",
   "metadata": {},
   "outputs": [],
   "source": [
    "predictions = backtesting(df, new_predictors, model)"
   ]
  },
  {
   "cell_type": "code",
   "execution_count": 52,
   "id": "e9ed581f",
   "metadata": {
    "scrolled": true
   },
   "outputs": [],
   "source": [
    "predictions = pd.concat(predictions)"
   ]
  },
  {
   "cell_type": "code",
   "execution_count": 53,
   "id": "f5972c37",
   "metadata": {},
   "outputs": [
    {
     "data": {
      "text/plain": [
       "Predictions\n",
       "0.0    4288\n",
       "1.0     832\n",
       "Name: count, dtype: int64"
      ]
     },
     "execution_count": 53,
     "metadata": {},
     "output_type": "execute_result"
    }
   ],
   "source": [
    "predictions[\"Predictions\"].value_counts()"
   ]
  },
  {
   "cell_type": "code",
   "execution_count": 54,
   "id": "4e911d7f",
   "metadata": {},
   "outputs": [
    {
     "data": {
      "text/plain": [
       "0.5733173076923077"
      ]
     },
     "execution_count": 54,
     "metadata": {},
     "output_type": "execute_result"
    }
   ],
   "source": [
    "precision_score(predictions[\"Target\"], predictions[\"Predictions\"])"
   ]
  },
  {
   "cell_type": "code",
   "execution_count": null,
   "id": "441a16d5",
   "metadata": {},
   "outputs": [],
   "source": []
  }
 ],
 "metadata": {
  "kernelspec": {
   "display_name": "Python 3 (ipykernel)",
   "language": "python",
   "name": "python3"
  },
  "language_info": {
   "codemirror_mode": {
    "name": "ipython",
    "version": 3
   },
   "file_extension": ".py",
   "mimetype": "text/x-python",
   "name": "python",
   "nbconvert_exporter": "python",
   "pygments_lexer": "ipython3",
   "version": "3.9.13"
  }
 },
 "nbformat": 4,
 "nbformat_minor": 5
}
